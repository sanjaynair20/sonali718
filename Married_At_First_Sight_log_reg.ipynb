{
 "cells": [
  {
   "cell_type": "code",
   "execution_count": 17,
   "metadata": {},
   "outputs": [],
   "source": [
    "import pandas as pd\n",
    "import numpy as np\n",
    "import matplotlib.pyplot as plt\n",
    "import seaborn as sb"
   ]
  },
  {
   "cell_type": "code",
   "execution_count": 18,
   "metadata": {},
   "outputs": [
    {
     "data": {
      "text/html": [
       "<div>\n",
       "<style scoped>\n",
       "    .dataframe tbody tr th:only-of-type {\n",
       "        vertical-align: middle;\n",
       "    }\n",
       "\n",
       "    .dataframe tbody tr th {\n",
       "        vertical-align: top;\n",
       "    }\n",
       "\n",
       "    .dataframe thead th {\n",
       "        text-align: right;\n",
       "    }\n",
       "</style>\n",
       "<table border=\"1\" class=\"dataframe\">\n",
       "  <thead>\n",
       "    <tr style=\"text-align: right;\">\n",
       "      <th></th>\n",
       "      <th>Couple</th>\n",
       "      <th>Season</th>\n",
       "      <th>Location</th>\n",
       "      <th>Name</th>\n",
       "      <th>Age</th>\n",
       "      <th>Gender</th>\n",
       "      <th>Occupation</th>\n",
       "      <th>Decision</th>\n",
       "      <th>Status</th>\n",
       "      <th>DrPepperSchwartz</th>\n",
       "      <th>DrLoganLevkoff</th>\n",
       "      <th>DrJosephCilona</th>\n",
       "      <th>ChaplainGregEpstein</th>\n",
       "      <th>PastorCalvinRoberson</th>\n",
       "      <th>RachelDeAlto</th>\n",
       "      <th>DrJessicaGriffin</th>\n",
       "      <th>DrVivianaColes</th>\n",
       "    </tr>\n",
       "  </thead>\n",
       "  <tbody>\n",
       "    <tr>\n",
       "      <td>0</td>\n",
       "      <td>1</td>\n",
       "      <td>1</td>\n",
       "      <td>New York City and Northern New Jersey</td>\n",
       "      <td>Jamie Otis-Hehner</td>\n",
       "      <td>27</td>\n",
       "      <td>F</td>\n",
       "      <td>Nurse</td>\n",
       "      <td>Yes</td>\n",
       "      <td>Married</td>\n",
       "      <td>1</td>\n",
       "      <td>1</td>\n",
       "      <td>1</td>\n",
       "      <td>1</td>\n",
       "      <td>0</td>\n",
       "      <td>0</td>\n",
       "      <td>0</td>\n",
       "      <td>0</td>\n",
       "    </tr>\n",
       "    <tr>\n",
       "      <td>1</td>\n",
       "      <td>1</td>\n",
       "      <td>1</td>\n",
       "      <td>New York City and Northern New Jersey</td>\n",
       "      <td>Doug Hehner</td>\n",
       "      <td>31</td>\n",
       "      <td>M</td>\n",
       "      <td>Software salesman</td>\n",
       "      <td>Yes</td>\n",
       "      <td>Married</td>\n",
       "      <td>1</td>\n",
       "      <td>1</td>\n",
       "      <td>1</td>\n",
       "      <td>1</td>\n",
       "      <td>0</td>\n",
       "      <td>0</td>\n",
       "      <td>0</td>\n",
       "      <td>0</td>\n",
       "    </tr>\n",
       "    <tr>\n",
       "      <td>2</td>\n",
       "      <td>2</td>\n",
       "      <td>1</td>\n",
       "      <td>New York City and Northern New Jersey</td>\n",
       "      <td>Cortney Hendrix</td>\n",
       "      <td>26</td>\n",
       "      <td>F</td>\n",
       "      <td>Make-up artist</td>\n",
       "      <td>Yes</td>\n",
       "      <td>Divorced</td>\n",
       "      <td>1</td>\n",
       "      <td>1</td>\n",
       "      <td>1</td>\n",
       "      <td>1</td>\n",
       "      <td>0</td>\n",
       "      <td>0</td>\n",
       "      <td>0</td>\n",
       "      <td>0</td>\n",
       "    </tr>\n",
       "    <tr>\n",
       "      <td>3</td>\n",
       "      <td>2</td>\n",
       "      <td>1</td>\n",
       "      <td>New York City and Northern New Jersey</td>\n",
       "      <td>Jason Carrion</td>\n",
       "      <td>27</td>\n",
       "      <td>M</td>\n",
       "      <td>Fireman</td>\n",
       "      <td>Yes</td>\n",
       "      <td>Divorced</td>\n",
       "      <td>1</td>\n",
       "      <td>1</td>\n",
       "      <td>1</td>\n",
       "      <td>1</td>\n",
       "      <td>0</td>\n",
       "      <td>0</td>\n",
       "      <td>0</td>\n",
       "      <td>0</td>\n",
       "    </tr>\n",
       "    <tr>\n",
       "      <td>4</td>\n",
       "      <td>3</td>\n",
       "      <td>1</td>\n",
       "      <td>New York City and Northern New Jersey</td>\n",
       "      <td>Monet Bell</td>\n",
       "      <td>33</td>\n",
       "      <td>F</td>\n",
       "      <td>Product development manager</td>\n",
       "      <td>No</td>\n",
       "      <td>Divorced</td>\n",
       "      <td>1</td>\n",
       "      <td>1</td>\n",
       "      <td>1</td>\n",
       "      <td>1</td>\n",
       "      <td>0</td>\n",
       "      <td>0</td>\n",
       "      <td>0</td>\n",
       "      <td>0</td>\n",
       "    </tr>\n",
       "  </tbody>\n",
       "</table>\n",
       "</div>"
      ],
      "text/plain": [
       "   Couple  Season                               Location               Name  \\\n",
       "0       1       1  New York City and Northern New Jersey  Jamie Otis-Hehner   \n",
       "1       1       1  New York City and Northern New Jersey        Doug Hehner   \n",
       "2       2       1  New York City and Northern New Jersey    Cortney Hendrix   \n",
       "3       2       1  New York City and Northern New Jersey      Jason Carrion   \n",
       "4       3       1  New York City and Northern New Jersey         Monet Bell   \n",
       "\n",
       "   Age Gender                   Occupation Decision    Status  \\\n",
       "0   27      F                        Nurse      Yes   Married   \n",
       "1   31      M            Software salesman      Yes   Married   \n",
       "2   26      F               Make-up artist      Yes  Divorced   \n",
       "3   27      M                      Fireman      Yes  Divorced   \n",
       "4   33      F  Product development manager       No  Divorced   \n",
       "\n",
       "   DrPepperSchwartz  DrLoganLevkoff  DrJosephCilona  ChaplainGregEpstein  \\\n",
       "0                 1               1               1                    1   \n",
       "1                 1               1               1                    1   \n",
       "2                 1               1               1                    1   \n",
       "3                 1               1               1                    1   \n",
       "4                 1               1               1                    1   \n",
       "\n",
       "   PastorCalvinRoberson  RachelDeAlto  DrJessicaGriffin  DrVivianaColes  \n",
       "0                     0             0                 0               0  \n",
       "1                     0             0                 0               0  \n",
       "2                     0             0                 0               0  \n",
       "3                     0             0                 0               0  \n",
       "4                     0             0                 0               0  "
      ]
     },
     "execution_count": 18,
     "metadata": {},
     "output_type": "execute_result"
    }
   ],
   "source": [
    "df = pd.read_csv(r'F:\\PYTHON\\mafs.csv')\n",
    "df.head(5)"
   ]
  },
  {
   "cell_type": "code",
   "execution_count": 19,
   "metadata": {},
   "outputs": [
    {
     "data": {
      "text/plain": [
       "Couple                  0\n",
       "Season                  0\n",
       "Location                0\n",
       "Name                    0\n",
       "Age                     0\n",
       "Gender                  0\n",
       "Occupation              0\n",
       "Decision                0\n",
       "Status                  0\n",
       "DrPepperSchwartz        0\n",
       "DrLoganLevkoff          0\n",
       "DrJosephCilona          0\n",
       "ChaplainGregEpstein     0\n",
       "PastorCalvinRoberson    0\n",
       "RachelDeAlto            0\n",
       "DrJessicaGriffin        0\n",
       "DrVivianaColes          0\n",
       "dtype: int64"
      ]
     },
     "execution_count": 19,
     "metadata": {},
     "output_type": "execute_result"
    }
   ],
   "source": [
    "df.isnull().sum()"
   ]
  },
  {
   "cell_type": "code",
   "execution_count": 20,
   "metadata": {},
   "outputs": [
    {
     "name": "stdout",
     "output_type": "stream",
     "text": [
      "<class 'pandas.core.frame.DataFrame'>\n",
      "RangeIndex: 68 entries, 0 to 67\n",
      "Data columns (total 17 columns):\n",
      "Couple                  68 non-null int64\n",
      "Season                  68 non-null int64\n",
      "Location                68 non-null object\n",
      "Name                    68 non-null object\n",
      "Age                     68 non-null int64\n",
      "Gender                  68 non-null object\n",
      "Occupation              68 non-null object\n",
      "Decision                68 non-null object\n",
      "Status                  68 non-null object\n",
      "DrPepperSchwartz        68 non-null int64\n",
      "DrLoganLevkoff          68 non-null int64\n",
      "DrJosephCilona          68 non-null int64\n",
      "ChaplainGregEpstein     68 non-null int64\n",
      "PastorCalvinRoberson    68 non-null int64\n",
      "RachelDeAlto            68 non-null int64\n",
      "DrJessicaGriffin        68 non-null int64\n",
      "DrVivianaColes          68 non-null int64\n",
      "dtypes: int64(11), object(6)\n",
      "memory usage: 9.2+ KB\n"
     ]
    }
   ],
   "source": [
    "df.info()"
   ]
  },
  {
   "cell_type": "code",
   "execution_count": 21,
   "metadata": {},
   "outputs": [
    {
     "data": {
      "text/plain": [
       "Couple                   int64\n",
       "Season                   int64\n",
       "Location                object\n",
       "Name                    object\n",
       "Age                      int64\n",
       "Gender                  object\n",
       "Occupation              object\n",
       "Decision                object\n",
       "Status                  object\n",
       "DrPepperSchwartz         int64\n",
       "DrLoganLevkoff           int64\n",
       "DrJosephCilona           int64\n",
       "ChaplainGregEpstein      int64\n",
       "PastorCalvinRoberson     int64\n",
       "RachelDeAlto             int64\n",
       "DrJessicaGriffin         int64\n",
       "DrVivianaColes           int64\n",
       "dtype: object"
      ]
     },
     "execution_count": 21,
     "metadata": {},
     "output_type": "execute_result"
    }
   ],
   "source": [
    "df.dtypes"
   ]
  },
  {
   "cell_type": "code",
   "execution_count": 22,
   "metadata": {},
   "outputs": [
    {
     "data": {
      "text/plain": [
       "(68, 17)"
      ]
     },
     "execution_count": 22,
     "metadata": {},
     "output_type": "execute_result"
    }
   ],
   "source": [
    "df.shape"
   ]
  },
  {
   "cell_type": "code",
   "execution_count": 23,
   "metadata": {},
   "outputs": [
    {
     "data": {
      "text/plain": [
       "(array([ 1,  2,  3,  4,  5,  6,  7,  8,  9, 10, 11]),\n",
       " <a list of 11 Text xticklabel objects>)"
      ]
     },
     "execution_count": 23,
     "metadata": {},
     "output_type": "execute_result"
    },
    {
     "data": {
      "image/png": "[encoded data removed]",
      "text/plain": [
       "<Figure size 432x288 with 1 Axes>"
      ]
     },
     "metadata": {
      "needs_background": "light"
     },
     "output_type": "display_data"
    }
   ],
   "source": [
    "df.boxplot()\n",
    "plt.xticks(rotation = 50)"
   ]
  },
  {
   "cell_type": "code",
   "execution_count": 24,
   "metadata": {},
   "outputs": [
    {
     "data": {
      "text/html": [
       "<div>\n",
       "<style scoped>\n",
       "    .dataframe tbody tr th:only-of-type {\n",
       "        vertical-align: middle;\n",
       "    }\n",
       "\n",
       "    .dataframe tbody tr th {\n",
       "        vertical-align: top;\n",
       "    }\n",
       "\n",
       "    .dataframe thead th {\n",
       "        text-align: right;\n",
       "    }\n",
       "</style>\n",
       "<table border=\"1\" class=\"dataframe\">\n",
       "  <thead>\n",
       "    <tr style=\"text-align: right;\">\n",
       "      <th></th>\n",
       "      <th>Couple</th>\n",
       "      <th>Season</th>\n",
       "      <th>Age</th>\n",
       "      <th>DrPepperSchwartz</th>\n",
       "      <th>DrLoganLevkoff</th>\n",
       "      <th>DrJosephCilona</th>\n",
       "      <th>ChaplainGregEpstein</th>\n",
       "      <th>PastorCalvinRoberson</th>\n",
       "      <th>RachelDeAlto</th>\n",
       "      <th>DrJessicaGriffin</th>\n",
       "      <th>DrVivianaColes</th>\n",
       "    </tr>\n",
       "  </thead>\n",
       "  <tbody>\n",
       "    <tr>\n",
       "      <td>Couple</td>\n",
       "      <td>1.00</td>\n",
       "      <td>0.99</td>\n",
       "      <td>0.07</td>\n",
       "      <td>NaN</td>\n",
       "      <td>-0.76</td>\n",
       "      <td>-0.76</td>\n",
       "      <td>-0.76</td>\n",
       "      <td>0.76</td>\n",
       "      <td>-0.24</td>\n",
       "      <td>0.20</td>\n",
       "      <td>0.76</td>\n",
       "    </tr>\n",
       "    <tr>\n",
       "      <td>Season</td>\n",
       "      <td>0.99</td>\n",
       "      <td>1.00</td>\n",
       "      <td>0.06</td>\n",
       "      <td>NaN</td>\n",
       "      <td>-0.80</td>\n",
       "      <td>-0.80</td>\n",
       "      <td>-0.80</td>\n",
       "      <td>0.80</td>\n",
       "      <td>-0.22</td>\n",
       "      <td>0.25</td>\n",
       "      <td>0.73</td>\n",
       "    </tr>\n",
       "    <tr>\n",
       "      <td>Age</td>\n",
       "      <td>0.07</td>\n",
       "      <td>0.06</td>\n",
       "      <td>1.00</td>\n",
       "      <td>NaN</td>\n",
       "      <td>-0.07</td>\n",
       "      <td>-0.07</td>\n",
       "      <td>-0.07</td>\n",
       "      <td>0.07</td>\n",
       "      <td>0.02</td>\n",
       "      <td>0.11</td>\n",
       "      <td>-0.06</td>\n",
       "    </tr>\n",
       "    <tr>\n",
       "      <td>DrPepperSchwartz</td>\n",
       "      <td>NaN</td>\n",
       "      <td>NaN</td>\n",
       "      <td>NaN</td>\n",
       "      <td>NaN</td>\n",
       "      <td>NaN</td>\n",
       "      <td>NaN</td>\n",
       "      <td>NaN</td>\n",
       "      <td>NaN</td>\n",
       "      <td>NaN</td>\n",
       "      <td>NaN</td>\n",
       "      <td>NaN</td>\n",
       "    </tr>\n",
       "    <tr>\n",
       "      <td>DrLoganLevkoff</td>\n",
       "      <td>-0.76</td>\n",
       "      <td>-0.80</td>\n",
       "      <td>-0.07</td>\n",
       "      <td>NaN</td>\n",
       "      <td>1.00</td>\n",
       "      <td>1.00</td>\n",
       "      <td>1.00</td>\n",
       "      <td>-1.00</td>\n",
       "      <td>-0.28</td>\n",
       "      <td>-0.39</td>\n",
       "      <td>-0.36</td>\n",
       "    </tr>\n",
       "    <tr>\n",
       "      <td>DrJosephCilona</td>\n",
       "      <td>-0.76</td>\n",
       "      <td>-0.80</td>\n",
       "      <td>-0.07</td>\n",
       "      <td>NaN</td>\n",
       "      <td>1.00</td>\n",
       "      <td>1.00</td>\n",
       "      <td>1.00</td>\n",
       "      <td>-1.00</td>\n",
       "      <td>-0.28</td>\n",
       "      <td>-0.39</td>\n",
       "      <td>-0.36</td>\n",
       "    </tr>\n",
       "    <tr>\n",
       "      <td>ChaplainGregEpstein</td>\n",
       "      <td>-0.76</td>\n",
       "      <td>-0.80</td>\n",
       "      <td>-0.07</td>\n",
       "      <td>NaN</td>\n",
       "      <td>1.00</td>\n",
       "      <td>1.00</td>\n",
       "      <td>1.00</td>\n",
       "      <td>-1.00</td>\n",
       "      <td>-0.28</td>\n",
       "      <td>-0.39</td>\n",
       "      <td>-0.36</td>\n",
       "    </tr>\n",
       "    <tr>\n",
       "      <td>PastorCalvinRoberson</td>\n",
       "      <td>0.76</td>\n",
       "      <td>0.80</td>\n",
       "      <td>0.07</td>\n",
       "      <td>NaN</td>\n",
       "      <td>-1.00</td>\n",
       "      <td>-1.00</td>\n",
       "      <td>-1.00</td>\n",
       "      <td>1.00</td>\n",
       "      <td>0.28</td>\n",
       "      <td>0.39</td>\n",
       "      <td>0.36</td>\n",
       "    </tr>\n",
       "    <tr>\n",
       "      <td>RachelDeAlto</td>\n",
       "      <td>-0.24</td>\n",
       "      <td>-0.22</td>\n",
       "      <td>0.02</td>\n",
       "      <td>NaN</td>\n",
       "      <td>-0.28</td>\n",
       "      <td>-0.28</td>\n",
       "      <td>-0.28</td>\n",
       "      <td>0.28</td>\n",
       "      <td>1.00</td>\n",
       "      <td>-0.30</td>\n",
       "      <td>-0.28</td>\n",
       "    </tr>\n",
       "    <tr>\n",
       "      <td>DrJessicaGriffin</td>\n",
       "      <td>0.20</td>\n",
       "      <td>0.25</td>\n",
       "      <td>0.11</td>\n",
       "      <td>NaN</td>\n",
       "      <td>-0.39</td>\n",
       "      <td>-0.39</td>\n",
       "      <td>-0.39</td>\n",
       "      <td>0.39</td>\n",
       "      <td>-0.30</td>\n",
       "      <td>1.00</td>\n",
       "      <td>-0.39</td>\n",
       "    </tr>\n",
       "    <tr>\n",
       "      <td>DrVivianaColes</td>\n",
       "      <td>0.76</td>\n",
       "      <td>0.73</td>\n",
       "      <td>-0.06</td>\n",
       "      <td>NaN</td>\n",
       "      <td>-0.36</td>\n",
       "      <td>-0.36</td>\n",
       "      <td>-0.36</td>\n",
       "      <td>0.36</td>\n",
       "      <td>-0.28</td>\n",
       "      <td>-0.39</td>\n",
       "      <td>1.00</td>\n",
       "    </tr>\n",
       "  </tbody>\n",
       "</table>\n",
       "</div>"
      ],
      "text/plain": [
       "                      Couple  Season   Age  DrPepperSchwartz  DrLoganLevkoff  \\\n",
       "Couple                  1.00    0.99  0.07               NaN           -0.76   \n",
       "Season                  0.99    1.00  0.06               NaN           -0.80   \n",
       "Age                     0.07    0.06  1.00               NaN           -0.07   \n",
       "DrPepperSchwartz         NaN     NaN   NaN               NaN             NaN   \n",
       "DrLoganLevkoff         -0.76   -0.80 -0.07               NaN            1.00   \n",
       "DrJosephCilona         -0.76   -0.80 -0.07               NaN            1.00   \n",
       "ChaplainGregEpstein    -0.76   -0.80 -0.07               NaN            1.00   \n",
       "PastorCalvinRoberson    0.76    0.80  0.07               NaN           -1.00   \n",
       "RachelDeAlto           -0.24   -0.22  0.02               NaN           -0.28   \n",
       "DrJessicaGriffin        0.20    0.25  0.11               NaN           -0.39   \n",
       "DrVivianaColes          0.76    0.73 -0.06               NaN           -0.36   \n",
       "\n",
       "                      DrJosephCilona  ChaplainGregEpstein  \\\n",
       "Couple                         -0.76                -0.76   \n",
       "Season                         -0.80                -0.80   \n",
       "Age                            -0.07                -0.07   \n",
       "DrPepperSchwartz                 NaN                  NaN   \n",
       "DrLoganLevkoff                  1.00                 1.00   \n",
       "DrJosephCilona                  1.00                 1.00   \n",
       "ChaplainGregEpstein             1.00                 1.00   \n",
       "PastorCalvinRoberson           -1.00                -1.00   \n",
       "RachelDeAlto                   -0.28                -0.28   \n",
       "DrJessicaGriffin               -0.39                -0.39   \n",
       "DrVivianaColes                 -0.36                -0.36   \n",
       "\n",
       "                      PastorCalvinRoberson  RachelDeAlto  DrJessicaGriffin  \\\n",
       "Couple                                0.76         -0.24              0.20   \n",
       "Season                                0.80         -0.22              0.25   \n",
       "Age                                   0.07          0.02              0.11   \n",
       "DrPepperSchwartz                       NaN           NaN               NaN   \n",
       "DrLoganLevkoff                       -1.00         -0.28             -0.39   \n",
       "DrJosephCilona                       -1.00         -0.28             -0.39   \n",
       "ChaplainGregEpstein                  -1.00         -0.28             -0.39   \n",
       "PastorCalvinRoberson                  1.00          0.28              0.39   \n",
       "RachelDeAlto                          0.28          1.00             -0.30   \n",
       "DrJessicaGriffin                      0.39         -0.30              1.00   \n",
       "DrVivianaColes                        0.36         -0.28             -0.39   \n",
       "\n",
       "                      DrVivianaColes  \n",
       "Couple                          0.76  \n",
       "Season                          0.73  \n",
       "Age                            -0.06  \n",
       "DrPepperSchwartz                 NaN  \n",
       "DrLoganLevkoff                 -0.36  \n",
       "DrJosephCilona                 -0.36  \n",
       "ChaplainGregEpstein            -0.36  \n",
       "PastorCalvinRoberson            0.36  \n",
       "RachelDeAlto                   -0.28  \n",
       "DrJessicaGriffin               -0.39  \n",
       "DrVivianaColes                  1.00  "
      ]
     },
     "execution_count": 24,
     "metadata": {},
     "output_type": "execute_result"
    }
   ],
   "source": [
    "cor_matrix = df.corr().round(2)\n",
    "cor_matrix"
   ]
  },
  {
   "cell_type": "code",
   "execution_count": 25,
   "metadata": {},
   "outputs": [],
   "source": [
    "df = df.drop([\"DrPepperSchwartz\"],axis=1)\n"
   ]
  },
  {
   "cell_type": "code",
   "execution_count": 26,
   "metadata": {},
   "outputs": [
    {
     "data": {
      "text/html": [
       "<div>\n",
       "<style scoped>\n",
       "    .dataframe tbody tr th:only-of-type {\n",
       "        vertical-align: middle;\n",
       "    }\n",
       "\n",
       "    .dataframe tbody tr th {\n",
       "        vertical-align: top;\n",
       "    }\n",
       "\n",
       "    .dataframe thead th {\n",
       "        text-align: right;\n",
       "    }\n",
       "</style>\n",
       "<table border=\"1\" class=\"dataframe\">\n",
       "  <thead>\n",
       "    <tr style=\"text-align: right;\">\n",
       "      <th></th>\n",
       "      <th>Couple</th>\n",
       "      <th>Season</th>\n",
       "      <th>Location</th>\n",
       "      <th>Name</th>\n",
       "      <th>Age</th>\n",
       "      <th>Gender</th>\n",
       "      <th>Occupation</th>\n",
       "      <th>Decision</th>\n",
       "      <th>Status</th>\n",
       "      <th>DrLoganLevkoff</th>\n",
       "      <th>DrJosephCilona</th>\n",
       "      <th>ChaplainGregEpstein</th>\n",
       "      <th>PastorCalvinRoberson</th>\n",
       "      <th>RachelDeAlto</th>\n",
       "      <th>DrJessicaGriffin</th>\n",
       "      <th>DrVivianaColes</th>\n",
       "    </tr>\n",
       "  </thead>\n",
       "  <tbody>\n",
       "    <tr>\n",
       "      <td>0</td>\n",
       "      <td>1</td>\n",
       "      <td>1</td>\n",
       "      <td>New York City and Northern New Jersey</td>\n",
       "      <td>Jamie Otis-Hehner</td>\n",
       "      <td>27</td>\n",
       "      <td>F</td>\n",
       "      <td>Nurse</td>\n",
       "      <td>Yes</td>\n",
       "      <td>Married</td>\n",
       "      <td>1</td>\n",
       "      <td>1</td>\n",
       "      <td>1</td>\n",
       "      <td>0</td>\n",
       "      <td>0</td>\n",
       "      <td>0</td>\n",
       "      <td>0</td>\n",
       "    </tr>\n",
       "    <tr>\n",
       "      <td>1</td>\n",
       "      <td>1</td>\n",
       "      <td>1</td>\n",
       "      <td>New York City and Northern New Jersey</td>\n",
       "      <td>Doug Hehner</td>\n",
       "      <td>31</td>\n",
       "      <td>M</td>\n",
       "      <td>Software salesman</td>\n",
       "      <td>Yes</td>\n",
       "      <td>Married</td>\n",
       "      <td>1</td>\n",
       "      <td>1</td>\n",
       "      <td>1</td>\n",
       "      <td>0</td>\n",
       "      <td>0</td>\n",
       "      <td>0</td>\n",
       "      <td>0</td>\n",
       "    </tr>\n",
       "    <tr>\n",
       "      <td>2</td>\n",
       "      <td>2</td>\n",
       "      <td>1</td>\n",
       "      <td>New York City and Northern New Jersey</td>\n",
       "      <td>Cortney Hendrix</td>\n",
       "      <td>26</td>\n",
       "      <td>F</td>\n",
       "      <td>Make-up artist</td>\n",
       "      <td>Yes</td>\n",
       "      <td>Divorced</td>\n",
       "      <td>1</td>\n",
       "      <td>1</td>\n",
       "      <td>1</td>\n",
       "      <td>0</td>\n",
       "      <td>0</td>\n",
       "      <td>0</td>\n",
       "      <td>0</td>\n",
       "    </tr>\n",
       "    <tr>\n",
       "      <td>3</td>\n",
       "      <td>2</td>\n",
       "      <td>1</td>\n",
       "      <td>New York City and Northern New Jersey</td>\n",
       "      <td>Jason Carrion</td>\n",
       "      <td>27</td>\n",
       "      <td>M</td>\n",
       "      <td>Fireman</td>\n",
       "      <td>Yes</td>\n",
       "      <td>Divorced</td>\n",
       "      <td>1</td>\n",
       "      <td>1</td>\n",
       "      <td>1</td>\n",
       "      <td>0</td>\n",
       "      <td>0</td>\n",
       "      <td>0</td>\n",
       "      <td>0</td>\n",
       "    </tr>\n",
       "    <tr>\n",
       "      <td>4</td>\n",
       "      <td>3</td>\n",
       "      <td>1</td>\n",
       "      <td>New York City and Northern New Jersey</td>\n",
       "      <td>Monet Bell</td>\n",
       "      <td>33</td>\n",
       "      <td>F</td>\n",
       "      <td>Product development manager</td>\n",
       "      <td>No</td>\n",
       "      <td>Divorced</td>\n",
       "      <td>1</td>\n",
       "      <td>1</td>\n",
       "      <td>1</td>\n",
       "      <td>0</td>\n",
       "      <td>0</td>\n",
       "      <td>0</td>\n",
       "      <td>0</td>\n",
       "    </tr>\n",
       "    <tr>\n",
       "      <td>...</td>\n",
       "      <td>...</td>\n",
       "      <td>...</td>\n",
       "      <td>...</td>\n",
       "      <td>...</td>\n",
       "      <td>...</td>\n",
       "      <td>...</td>\n",
       "      <td>...</td>\n",
       "      <td>...</td>\n",
       "      <td>...</td>\n",
       "      <td>...</td>\n",
       "      <td>...</td>\n",
       "      <td>...</td>\n",
       "      <td>...</td>\n",
       "      <td>...</td>\n",
       "      <td>...</td>\n",
       "      <td>...</td>\n",
       "    </tr>\n",
       "    <tr>\n",
       "      <td>63</td>\n",
       "      <td>32</td>\n",
       "      <td>10</td>\n",
       "      <td>Washington D.C.</td>\n",
       "      <td>Brandon Reid</td>\n",
       "      <td>34</td>\n",
       "      <td>M</td>\n",
       "      <td>Sales Manager</td>\n",
       "      <td>No</td>\n",
       "      <td>Divorced</td>\n",
       "      <td>0</td>\n",
       "      <td>0</td>\n",
       "      <td>0</td>\n",
       "      <td>1</td>\n",
       "      <td>0</td>\n",
       "      <td>0</td>\n",
       "      <td>1</td>\n",
       "    </tr>\n",
       "    <tr>\n",
       "      <td>64</td>\n",
       "      <td>33</td>\n",
       "      <td>10</td>\n",
       "      <td>Washington D.C.</td>\n",
       "      <td>Meka Jones</td>\n",
       "      <td>25</td>\n",
       "      <td>F</td>\n",
       "      <td>Category Analyst</td>\n",
       "      <td>No</td>\n",
       "      <td>Divorced</td>\n",
       "      <td>0</td>\n",
       "      <td>0</td>\n",
       "      <td>0</td>\n",
       "      <td>1</td>\n",
       "      <td>0</td>\n",
       "      <td>0</td>\n",
       "      <td>1</td>\n",
       "    </tr>\n",
       "    <tr>\n",
       "      <td>65</td>\n",
       "      <td>33</td>\n",
       "      <td>10</td>\n",
       "      <td>Washington D.C.</td>\n",
       "      <td>Michael Watson</td>\n",
       "      <td>31</td>\n",
       "      <td>M</td>\n",
       "      <td>Education Director</td>\n",
       "      <td>Yes</td>\n",
       "      <td>Divorced</td>\n",
       "      <td>0</td>\n",
       "      <td>0</td>\n",
       "      <td>0</td>\n",
       "      <td>1</td>\n",
       "      <td>0</td>\n",
       "      <td>0</td>\n",
       "      <td>1</td>\n",
       "    </tr>\n",
       "    <tr>\n",
       "      <td>66</td>\n",
       "      <td>34</td>\n",
       "      <td>10</td>\n",
       "      <td>Washington D.C.</td>\n",
       "      <td>Mindy Shiben</td>\n",
       "      <td>34</td>\n",
       "      <td>F</td>\n",
       "      <td>Figure Skating Coach</td>\n",
       "      <td>No</td>\n",
       "      <td>Divorced</td>\n",
       "      <td>0</td>\n",
       "      <td>0</td>\n",
       "      <td>0</td>\n",
       "      <td>1</td>\n",
       "      <td>0</td>\n",
       "      <td>0</td>\n",
       "      <td>1</td>\n",
       "    </tr>\n",
       "    <tr>\n",
       "      <td>67</td>\n",
       "      <td>34</td>\n",
       "      <td>10</td>\n",
       "      <td>Washington D.C.</td>\n",
       "      <td>Zach Justice</td>\n",
       "      <td>32</td>\n",
       "      <td>M</td>\n",
       "      <td>Fitness Professional</td>\n",
       "      <td>No</td>\n",
       "      <td>Divorced</td>\n",
       "      <td>0</td>\n",
       "      <td>0</td>\n",
       "      <td>0</td>\n",
       "      <td>1</td>\n",
       "      <td>0</td>\n",
       "      <td>0</td>\n",
       "      <td>1</td>\n",
       "    </tr>\n",
       "  </tbody>\n",
       "</table>\n",
       "<p>68 rows × 16 columns</p>\n",
       "</div>"
      ],
      "text/plain": [
       "    Couple  Season                               Location               Name  \\\n",
       "0        1       1  New York City and Northern New Jersey  Jamie Otis-Hehner   \n",
       "1        1       1  New York City and Northern New Jersey        Doug Hehner   \n",
       "2        2       1  New York City and Northern New Jersey    Cortney Hendrix   \n",
       "3        2       1  New York City and Northern New Jersey      Jason Carrion   \n",
       "4        3       1  New York City and Northern New Jersey         Monet Bell   \n",
       "..     ...     ...                                    ...                ...   \n",
       "63      32      10                        Washington D.C.       Brandon Reid   \n",
       "64      33      10                        Washington D.C.         Meka Jones   \n",
       "65      33      10                        Washington D.C.     Michael Watson   \n",
       "66      34      10                        Washington D.C.       Mindy Shiben   \n",
       "67      34      10                        Washington D.C.       Zach Justice   \n",
       "\n",
       "    Age Gender                   Occupation Decision    Status  \\\n",
       "0    27      F                        Nurse      Yes   Married   \n",
       "1    31      M            Software salesman      Yes   Married   \n",
       "2    26      F               Make-up artist      Yes  Divorced   \n",
       "3    27      M                      Fireman      Yes  Divorced   \n",
       "4    33      F  Product development manager       No  Divorced   \n",
       "..  ...    ...                          ...      ...       ...   \n",
       "63   34      M                Sales Manager       No  Divorced   \n",
       "64   25      F             Category Analyst       No  Divorced   \n",
       "65   31      M           Education Director      Yes  Divorced   \n",
       "66   34      F         Figure Skating Coach       No  Divorced   \n",
       "67   32      M         Fitness Professional       No  Divorced   \n",
       "\n",
       "    DrLoganLevkoff  DrJosephCilona  ChaplainGregEpstein  PastorCalvinRoberson  \\\n",
       "0                1               1                    1                     0   \n",
       "1                1               1                    1                     0   \n",
       "2                1               1                    1                     0   \n",
       "3                1               1                    1                     0   \n",
       "4                1               1                    1                     0   \n",
       "..             ...             ...                  ...                   ...   \n",
       "63               0               0                    0                     1   \n",
       "64               0               0                    0                     1   \n",
       "65               0               0                    0                     1   \n",
       "66               0               0                    0                     1   \n",
       "67               0               0                    0                     1   \n",
       "\n",
       "    RachelDeAlto  DrJessicaGriffin  DrVivianaColes  \n",
       "0              0                 0               0  \n",
       "1              0                 0               0  \n",
       "2              0                 0               0  \n",
       "3              0                 0               0  \n",
       "4              0                 0               0  \n",
       "..           ...               ...             ...  \n",
       "63             0                 0               1  \n",
       "64             0                 0               1  \n",
       "65             0                 0               1  \n",
       "66             0                 0               1  \n",
       "67             0                 0               1  \n",
       "\n",
       "[68 rows x 16 columns]"
      ]
     },
     "execution_count": 26,
     "metadata": {},
     "output_type": "execute_result"
    }
   ],
   "source": [
    "df"
   ]
  },
  {
   "cell_type": "code",
   "execution_count": 15,
   "metadata": {},
   "outputs": [
    {
     "data": {
      "text/html": [
       "<div>\n",
       "<style scoped>\n",
       "    .dataframe tbody tr th:only-of-type {\n",
       "        vertical-align: middle;\n",
       "    }\n",
       "\n",
       "    .dataframe tbody tr th {\n",
       "        vertical-align: top;\n",
       "    }\n",
       "\n",
       "    .dataframe thead th {\n",
       "        text-align: right;\n",
       "    }\n",
       "</style>\n",
       "<table border=\"1\" class=\"dataframe\">\n",
       "  <thead>\n",
       "    <tr style=\"text-align: right;\">\n",
       "      <th></th>\n",
       "      <th>Couple</th>\n",
       "      <th>Season</th>\n",
       "      <th>Age</th>\n",
       "      <th>DrLoganLevkoff</th>\n",
       "      <th>DrJosephCilona</th>\n",
       "      <th>ChaplainGregEpstein</th>\n",
       "      <th>PastorCalvinRoberson</th>\n",
       "      <th>RachelDeAlto</th>\n",
       "      <th>DrJessicaGriffin</th>\n",
       "      <th>DrVivianaColes</th>\n",
       "    </tr>\n",
       "  </thead>\n",
       "  <tbody>\n",
       "    <tr>\n",
       "      <td>count</td>\n",
       "      <td>68.000000</td>\n",
       "      <td>68.000000</td>\n",
       "      <td>68.000000</td>\n",
       "      <td>68.000000</td>\n",
       "      <td>68.000000</td>\n",
       "      <td>68.000000</td>\n",
       "      <td>68.000000</td>\n",
       "      <td>68.000000</td>\n",
       "      <td>68.000000</td>\n",
       "      <td>68.000000</td>\n",
       "    </tr>\n",
       "    <tr>\n",
       "      <td>mean</td>\n",
       "      <td>17.500000</td>\n",
       "      <td>5.941176</td>\n",
       "      <td>29.970588</td>\n",
       "      <td>0.264706</td>\n",
       "      <td>0.264706</td>\n",
       "      <td>0.264706</td>\n",
       "      <td>0.735294</td>\n",
       "      <td>0.176471</td>\n",
       "      <td>0.294118</td>\n",
       "      <td>0.264706</td>\n",
       "    </tr>\n",
       "    <tr>\n",
       "      <td>std</td>\n",
       "      <td>9.883652</td>\n",
       "      <td>2.991941</td>\n",
       "      <td>3.195008</td>\n",
       "      <td>0.444457</td>\n",
       "      <td>0.444457</td>\n",
       "      <td>0.444457</td>\n",
       "      <td>0.444457</td>\n",
       "      <td>0.384054</td>\n",
       "      <td>0.459033</td>\n",
       "      <td>0.444457</td>\n",
       "    </tr>\n",
       "    <tr>\n",
       "      <td>min</td>\n",
       "      <td>1.000000</td>\n",
       "      <td>1.000000</td>\n",
       "      <td>24.000000</td>\n",
       "      <td>0.000000</td>\n",
       "      <td>0.000000</td>\n",
       "      <td>0.000000</td>\n",
       "      <td>0.000000</td>\n",
       "      <td>0.000000</td>\n",
       "      <td>0.000000</td>\n",
       "      <td>0.000000</td>\n",
       "    </tr>\n",
       "    <tr>\n",
       "      <td>25%</td>\n",
       "      <td>9.000000</td>\n",
       "      <td>3.000000</td>\n",
       "      <td>27.000000</td>\n",
       "      <td>0.000000</td>\n",
       "      <td>0.000000</td>\n",
       "      <td>0.000000</td>\n",
       "      <td>0.000000</td>\n",
       "      <td>0.000000</td>\n",
       "      <td>0.000000</td>\n",
       "      <td>0.000000</td>\n",
       "    </tr>\n",
       "    <tr>\n",
       "      <td>50%</td>\n",
       "      <td>17.500000</td>\n",
       "      <td>6.000000</td>\n",
       "      <td>30.000000</td>\n",
       "      <td>0.000000</td>\n",
       "      <td>0.000000</td>\n",
       "      <td>0.000000</td>\n",
       "      <td>1.000000</td>\n",
       "      <td>0.000000</td>\n",
       "      <td>0.000000</td>\n",
       "      <td>0.000000</td>\n",
       "    </tr>\n",
       "    <tr>\n",
       "      <td>75%</td>\n",
       "      <td>26.000000</td>\n",
       "      <td>9.000000</td>\n",
       "      <td>32.000000</td>\n",
       "      <td>1.000000</td>\n",
       "      <td>1.000000</td>\n",
       "      <td>1.000000</td>\n",
       "      <td>1.000000</td>\n",
       "      <td>0.000000</td>\n",
       "      <td>1.000000</td>\n",
       "      <td>1.000000</td>\n",
       "    </tr>\n",
       "    <tr>\n",
       "      <td>max</td>\n",
       "      <td>34.000000</td>\n",
       "      <td>10.000000</td>\n",
       "      <td>37.000000</td>\n",
       "      <td>1.000000</td>\n",
       "      <td>1.000000</td>\n",
       "      <td>1.000000</td>\n",
       "      <td>1.000000</td>\n",
       "      <td>1.000000</td>\n",
       "      <td>1.000000</td>\n",
       "      <td>1.000000</td>\n",
       "    </tr>\n",
       "  </tbody>\n",
       "</table>\n",
       "</div>"
      ],
      "text/plain": [
       "          Couple     Season        Age  DrLoganLevkoff  DrJosephCilona  \\\n",
       "count  68.000000  68.000000  68.000000       68.000000       68.000000   \n",
       "mean   17.500000   5.941176  29.970588        0.264706        0.264706   \n",
       "std     9.883652   2.991941   3.195008        0.444457        0.444457   \n",
       "min     1.000000   1.000000  24.000000        0.000000        0.000000   \n",
       "25%     9.000000   3.000000  27.000000        0.000000        0.000000   \n",
       "50%    17.500000   6.000000  30.000000        0.000000        0.000000   \n",
       "75%    26.000000   9.000000  32.000000        1.000000        1.000000   \n",
       "max    34.000000  10.000000  37.000000        1.000000        1.000000   \n",
       "\n",
       "       ChaplainGregEpstein  PastorCalvinRoberson  RachelDeAlto  \\\n",
       "count            68.000000             68.000000     68.000000   \n",
       "mean              0.264706              0.735294      0.176471   \n",
       "std               0.444457              0.444457      0.384054   \n",
       "min               0.000000              0.000000      0.000000   \n",
       "25%               0.000000              0.000000      0.000000   \n",
       "50%               0.000000              1.000000      0.000000   \n",
       "75%               1.000000              1.000000      0.000000   \n",
       "max               1.000000              1.000000      1.000000   \n",
       "\n",
       "       DrJessicaGriffin  DrVivianaColes  \n",
       "count         68.000000       68.000000  \n",
       "mean           0.294118        0.264706  \n",
       "std            0.459033        0.444457  \n",
       "min            0.000000        0.000000  \n",
       "25%            0.000000        0.000000  \n",
       "50%            0.000000        0.000000  \n",
       "75%            1.000000        1.000000  \n",
       "max            1.000000        1.000000  "
      ]
     },
     "execution_count": 15,
     "metadata": {},
     "output_type": "execute_result"
    }
   ],
   "source": [
    "df.describe()"
   ]
  },
  {
   "cell_type": "code",
   "execution_count": 27,
   "metadata": {},
   "outputs": [
    {
     "data": {
      "text/plain": [
       "Couple                  68\n",
       "Season                  68\n",
       "Location                68\n",
       "Name                    68\n",
       "Age                     68\n",
       "Gender                  68\n",
       "Occupation              68\n",
       "Decision                68\n",
       "Status                  68\n",
       "DrLoganLevkoff          68\n",
       "DrJosephCilona          68\n",
       "ChaplainGregEpstein     68\n",
       "PastorCalvinRoberson    68\n",
       "RachelDeAlto            68\n",
       "DrJessicaGriffin        68\n",
       "DrVivianaColes          68\n",
       "dtype: int64"
      ]
     },
     "execution_count": 27,
     "metadata": {},
     "output_type": "execute_result"
    }
   ],
   "source": [
    "df.count()"
   ]
  },
  {
   "cell_type": "code",
   "execution_count": 28,
   "metadata": {},
   "outputs": [
    {
     "data": {
      "text/plain": [
       "<matplotlib.axes._subplots.AxesSubplot at 0x1799bd12788>"
      ]
     },
     "execution_count": 28,
     "metadata": {},
     "output_type": "execute_result"
    },
    {
     "data": {
      "image/png": "[encoded data removed]",
      "text/plain": [
       "<Figure size 432x288 with 2 Axes>"
      ]
     },
     "metadata": {
      "needs_background": "light"
     },
     "output_type": "display_data"
    }
   ],
   "source": [
    "sb.heatmap(cor_matrix,annot=True,vmax=1,vmin=-1)"
   ]
  },
  {
   "cell_type": "code",
   "execution_count": 30,
   "metadata": {},
   "outputs": [],
   "source": [
    "from sklearn.preprocessing import LabelEncoder\n",
    "le = LabelEncoder()"
   ]
  },
  {
   "cell_type": "code",
   "execution_count": 31,
   "metadata": {},
   "outputs": [],
   "source": [
    "df[\"Status\"] = le.fit_transform(df[\"Status\"])\n",
    "df[\"Decision\"] = le.fit_transform(df[\"Decision\"])\n",
    "df[\"Occupation\"] = le.fit_transform(df[\"Occupation\"])\n",
    "df[\"Gender\"] = le.fit_transform(df[\"Gender\"])\n",
    "df[\"Name\"] = le.fit_transform(df[\"Name\"])\n",
    "df[\"Location\"] = le.fit_transform(df[\"Location\"])"
   ]
  },
  {
   "cell_type": "code",
   "execution_count": 32,
   "metadata": {},
   "outputs": [
    {
     "data": {
      "text/html": [
       "<div>\n",
       "<style scoped>\n",
       "    .dataframe tbody tr th:only-of-type {\n",
       "        vertical-align: middle;\n",
       "    }\n",
       "\n",
       "    .dataframe tbody tr th {\n",
       "        vertical-align: top;\n",
       "    }\n",
       "\n",
       "    .dataframe thead th {\n",
       "        text-align: right;\n",
       "    }\n",
       "</style>\n",
       "<table border=\"1\" class=\"dataframe\">\n",
       "  <thead>\n",
       "    <tr style=\"text-align: right;\">\n",
       "      <th></th>\n",
       "      <th>Couple</th>\n",
       "      <th>Season</th>\n",
       "      <th>Location</th>\n",
       "      <th>Name</th>\n",
       "      <th>Age</th>\n",
       "      <th>Gender</th>\n",
       "      <th>Occupation</th>\n",
       "      <th>Decision</th>\n",
       "      <th>Status</th>\n",
       "      <th>DrLoganLevkoff</th>\n",
       "      <th>DrJosephCilona</th>\n",
       "      <th>ChaplainGregEpstein</th>\n",
       "      <th>PastorCalvinRoberson</th>\n",
       "      <th>RachelDeAlto</th>\n",
       "      <th>DrJessicaGriffin</th>\n",
       "      <th>DrVivianaColes</th>\n",
       "    </tr>\n",
       "  </thead>\n",
       "  <tbody>\n",
       "    <tr>\n",
       "      <td>0</td>\n",
       "      <td>1</td>\n",
       "      <td>1</td>\n",
       "      <td>5</td>\n",
       "      <td>26</td>\n",
       "      <td>27</td>\n",
       "      <td>0</td>\n",
       "      <td>42</td>\n",
       "      <td>1</td>\n",
       "      <td>1</td>\n",
       "      <td>1</td>\n",
       "      <td>1</td>\n",
       "      <td>1</td>\n",
       "      <td>0</td>\n",
       "      <td>0</td>\n",
       "      <td>0</td>\n",
       "      <td>0</td>\n",
       "    </tr>\n",
       "    <tr>\n",
       "      <td>1</td>\n",
       "      <td>1</td>\n",
       "      <td>1</td>\n",
       "      <td>5</td>\n",
       "      <td>19</td>\n",
       "      <td>31</td>\n",
       "      <td>1</td>\n",
       "      <td>60</td>\n",
       "      <td>1</td>\n",
       "      <td>1</td>\n",
       "      <td>1</td>\n",
       "      <td>1</td>\n",
       "      <td>1</td>\n",
       "      <td>0</td>\n",
       "      <td>0</td>\n",
       "      <td>0</td>\n",
       "      <td>0</td>\n",
       "    </tr>\n",
       "    <tr>\n",
       "      <td>2</td>\n",
       "      <td>2</td>\n",
       "      <td>1</td>\n",
       "      <td>5</td>\n",
       "      <td>10</td>\n",
       "      <td>26</td>\n",
       "      <td>0</td>\n",
       "      <td>34</td>\n",
       "      <td>1</td>\n",
       "      <td>0</td>\n",
       "      <td>1</td>\n",
       "      <td>1</td>\n",
       "      <td>1</td>\n",
       "      <td>0</td>\n",
       "      <td>0</td>\n",
       "      <td>0</td>\n",
       "      <td>0</td>\n",
       "    </tr>\n",
       "    <tr>\n",
       "      <td>3</td>\n",
       "      <td>2</td>\n",
       "      <td>1</td>\n",
       "      <td>5</td>\n",
       "      <td>29</td>\n",
       "      <td>27</td>\n",
       "      <td>1</td>\n",
       "      <td>26</td>\n",
       "      <td>1</td>\n",
       "      <td>0</td>\n",
       "      <td>1</td>\n",
       "      <td>1</td>\n",
       "      <td>1</td>\n",
       "      <td>0</td>\n",
       "      <td>0</td>\n",
       "      <td>0</td>\n",
       "      <td>0</td>\n",
       "    </tr>\n",
       "    <tr>\n",
       "      <td>4</td>\n",
       "      <td>3</td>\n",
       "      <td>1</td>\n",
       "      <td>5</td>\n",
       "      <td>47</td>\n",
       "      <td>33</td>\n",
       "      <td>0</td>\n",
       "      <td>48</td>\n",
       "      <td>0</td>\n",
       "      <td>0</td>\n",
       "      <td>1</td>\n",
       "      <td>1</td>\n",
       "      <td>1</td>\n",
       "      <td>0</td>\n",
       "      <td>0</td>\n",
       "      <td>0</td>\n",
       "      <td>0</td>\n",
       "    </tr>\n",
       "  </tbody>\n",
       "</table>\n",
       "</div>"
      ],
      "text/plain": [
       "   Couple  Season  Location  Name  Age  Gender  Occupation  Decision  Status  \\\n",
       "0       1       1         5    26   27       0          42         1       1   \n",
       "1       1       1         5    19   31       1          60         1       1   \n",
       "2       2       1         5    10   26       0          34         1       0   \n",
       "3       2       1         5    29   27       1          26         1       0   \n",
       "4       3       1         5    47   33       0          48         0       0   \n",
       "\n",
       "   DrLoganLevkoff  DrJosephCilona  ChaplainGregEpstein  PastorCalvinRoberson  \\\n",
       "0               1               1                    1                     0   \n",
       "1               1               1                    1                     0   \n",
       "2               1               1                    1                     0   \n",
       "3               1               1                    1                     0   \n",
       "4               1               1                    1                     0   \n",
       "\n",
       "   RachelDeAlto  DrJessicaGriffin  DrVivianaColes  \n",
       "0             0                 0               0  \n",
       "1             0                 0               0  \n",
       "2             0                 0               0  \n",
       "3             0                 0               0  \n",
       "4             0                 0               0  "
      ]
     },
     "execution_count": 32,
     "metadata": {},
     "output_type": "execute_result"
    }
   ],
   "source": [
    "df.head(5)"
   ]
  },
  {
   "cell_type": "code",
   "execution_count": 33,
   "metadata": {},
   "outputs": [
    {
     "data": {
      "text/plain": [
       "Couple                  int64\n",
       "Season                  int64\n",
       "Location                int32\n",
       "Name                    int32\n",
       "Age                     int64\n",
       "Gender                  int32\n",
       "Occupation              int32\n",
       "Decision                int32\n",
       "Status                  int32\n",
       "DrLoganLevkoff          int64\n",
       "DrJosephCilona          int64\n",
       "ChaplainGregEpstein     int64\n",
       "PastorCalvinRoberson    int64\n",
       "RachelDeAlto            int64\n",
       "DrJessicaGriffin        int64\n",
       "DrVivianaColes          int64\n",
       "dtype: object"
      ]
     },
     "execution_count": 33,
     "metadata": {},
     "output_type": "execute_result"
    }
   ],
   "source": [
    "df.dtypes"
   ]
  },
  {
   "cell_type": "code",
   "execution_count": 34,
   "metadata": {},
   "outputs": [
    {
     "data": {
      "text/plain": [
       "<matplotlib.axes._subplots.AxesSubplot at 0x1799e875ac8>"
      ]
     },
     "execution_count": 34,
     "metadata": {},
     "output_type": "execute_result"
    },
    {
     "data": {
      "image/png": "[encoded data removed]",
      "text/plain": [
       "<Figure size 432x288 with 1 Axes>"
      ]
     },
     "metadata": {
      "needs_background": "light"
     },
     "output_type": "display_data"
    }
   ],
   "source": [
    "sb.barplot(x = \"Status\",y=\"Decision\",data=df)"
   ]
  },
  {
   "cell_type": "code",
   "execution_count": 36,
   "metadata": {},
   "outputs": [
    {
     "data": {
      "text/plain": [
       "<seaborn.axisgrid.FacetGrid at 0x1799fecc708>"
      ]
     },
     "execution_count": 36,
     "metadata": {},
     "output_type": "execute_result"
    },
    {
     "data": {
      "image/png": "[encoded data removed]",
      "text/plain": [
       "<Figure size 360x360 with 1 Axes>"
      ]
     },
     "metadata": {
      "needs_background": "light"
     },
     "output_type": "display_data"
    }
   ],
   "source": [
    "sb.catplot(x = \"Status\",y = \"Gender\",data=df)"
   ]
  },
  {
   "cell_type": "code",
   "execution_count": 38,
   "metadata": {},
   "outputs": [
    {
     "data": {
      "text/plain": [
       "<matplotlib.axes._subplots.AxesSubplot at 0x179a052a608>"
      ]
     },
     "execution_count": 38,
     "metadata": {},
     "output_type": "execute_result"
    },
    {
     "data": {
      "image/png": "[encoded data removed]",
      "text/plain": [
       "<Figure size 432x288 with 1 Axes>"
      ]
     },
     "metadata": {
      "needs_background": "light"
     },
     "output_type": "display_data"
    }
   ],
   "source": [
    "sb.countplot(x = \"Location\",data = df)"
   ]
  },
  {
   "cell_type": "code",
   "execution_count": 46,
   "metadata": {},
   "outputs": [
    {
     "data": {
      "text/plain": [
       "<seaborn.axisgrid.JointGrid at 0x179a13bbc08>"
      ]
     },
     "execution_count": 46,
     "metadata": {},
     "output_type": "execute_result"
    },
    {
     "data": {
      "image/png": "[encoded data removed]",
      "text/plain": [
       "<Figure size 432x432 with 3 Axes>"
      ]
     },
     "metadata": {
      "needs_background": "light"
     },
     "output_type": "display_data"
    }
   ],
   "source": [
    "sb.jointplot(x = \"Location\",y = \"Occupation\",data=df)"
   ]
  },
  {
   "cell_type": "code",
   "execution_count": 47,
   "metadata": {},
   "outputs": [
    {
     "data": {
      "text/plain": [
       "<matplotlib.axes._subplots.AxesSubplot at 0x179a15af908>"
      ]
     },
     "execution_count": 47,
     "metadata": {},
     "output_type": "execute_result"
    },
    {
     "data": {
      "image/png": "[encoded data removed]",
      "text/plain": [
       "<Figure size 432x288 with 1 Axes>"
      ]
     },
     "metadata": {
      "needs_background": "light"
     },
     "output_type": "display_data"
    }
   ],
   "source": [
    "sb.scatterplot(x = \"Age\",y = \"Occupation\",data =df)"
   ]
  },
  {
   "cell_type": "code",
   "execution_count": 52,
   "metadata": {},
   "outputs": [
    {
     "data": {
      "text/plain": [
       "<matplotlib.axes._subplots.AxesSubplot at 0x179a09cd788>"
      ]
     },
     "execution_count": 52,
     "metadata": {},
     "output_type": "execute_result"
    },
    {
     "data": {
      "image/png": "[encoded data removed]",
      "text/plain": [
       "<Figure size 432x288 with 1 Axes>"
      ]
     },
     "metadata": {
      "needs_background": "light"
     },
     "output_type": "display_data"
    }
   ],
   "source": [
    "sb.kdeplot(data = df)"
   ]
  },
  {
   "cell_type": "code",
   "execution_count": 53,
   "metadata": {},
   "outputs": [
    {
     "data": {
      "text/plain": [
       "<matplotlib.axes._subplots.AxesSubplot at 0x1799fb86108>"
      ]
     },
     "execution_count": 53,
     "metadata": {},
     "output_type": "execute_result"
    },
    {
     "data": {
      "image/png": "[encoded data removed]",
      "text/plain": [
       "<Figure size 432x288 with 1 Axes>"
      ]
     },
     "metadata": {
      "needs_background": "light"
     },
     "output_type": "display_data"
    }
   ],
   "source": [
    "sb.lineplot(x = \"Location\",y=\"Name\",data=df)"
   ]
  },
  {
   "cell_type": "code",
   "execution_count": 55,
   "metadata": {},
   "outputs": [
    {
     "data": {
      "text/plain": [
       "<seaborn.axisgrid.FacetGrid at 0x1799e7e3d48>"
      ]
     },
     "execution_count": 55,
     "metadata": {},
     "output_type": "execute_result"
    },
    {
     "data": {
      "image/png": "[encoded data removed]",
      "text/plain": [
       "<Figure size 360x360 with 1 Axes>"
      ]
     },
     "metadata": {
      "needs_background": "light"
     },
     "output_type": "display_data"
    }
   ],
   "source": [
    "sb.lmplot(x = \"Occupation\",y=\"Decision\",data = df)"
   ]
  },
  {
   "cell_type": "code",
   "execution_count": 57,
   "metadata": {},
   "outputs": [
    {
     "data": {
      "text/plain": [
       "<matplotlib.axes._subplots.AxesSubplot at 0x17995920b08>"
      ]
     },
     "execution_count": 57,
     "metadata": {},
     "output_type": "execute_result"
    },
    {
     "data": {
      "image/png": "[encoded data removed]",
      "text/plain": [
       "<Figure size 432x288 with 1 Axes>"
      ]
     },
     "metadata": {
      "needs_background": "light"
     },
     "output_type": "display_data"
    }
   ],
   "source": [
    "sb.lvplot(data = df)"
   ]
  },
  {
   "cell_type": "code",
   "execution_count": 58,
   "metadata": {},
   "outputs": [
    {
     "data": {
      "text/plain": [
       "<matplotlib.axes._subplots.AxesSubplot at 0x17996001388>"
      ]
     },
     "execution_count": 58,
     "metadata": {},
     "output_type": "execute_result"
    },
    {
     "data": {
      "image/png": "[encoded data removed]",
      "text/plain": [
       "<Figure size 432x288 with 1 Axes>"
      ]
     },
     "metadata": {
      "needs_background": "light"
     },
     "output_type": "display_data"
    }
   ],
   "source": [
    "sb.violinplot(x = \"ChaplainGregEpstein\", y = \"PastorCalvinRoberson\",data = df)"
   ]
  },
  {
   "cell_type": "code",
   "execution_count": 59,
   "metadata": {},
   "outputs": [
    {
     "data": {
      "text/plain": [
       "<matplotlib.axes._subplots.AxesSubplot at 0x1799c214748>"
      ]
     },
     "execution_count": 59,
     "metadata": {},
     "output_type": "execute_result"
    },
    {
     "data": {
      "image/png": "[encoded data removed]",
      "text/plain": [
       "<Figure size 432x288 with 1 Axes>"
      ]
     },
     "metadata": {
      "needs_background": "light"
     },
     "output_type": "display_data"
    }
   ],
   "source": [
    "sb.violinplot(x = \"Status\",y = \"Decision\",data = df)"
   ]
  },
  {
   "cell_type": "code",
   "execution_count": 60,
   "metadata": {},
   "outputs": [
    {
     "data": {
      "text/plain": [
       "0    50\n",
       "1    18\n",
       "Name: Status, dtype: int64"
      ]
     },
     "execution_count": 60,
     "metadata": {},
     "output_type": "execute_result"
    }
   ],
   "source": [
    "df.Status.value_counts()"
   ]
  },
  {
   "cell_type": "code",
   "execution_count": 61,
   "metadata": {},
   "outputs": [
    {
     "data": {
      "text/plain": [
       "<matplotlib.axes._subplots.AxesSubplot at 0x179a6be6b08>"
      ]
     },
     "execution_count": 61,
     "metadata": {},
     "output_type": "execute_result"
    },
    {
     "data": {
      "image/png": "[encoded data removed]",
      "text/plain": [
       "<Figure size 432x288 with 1 Axes>"
      ]
     },
     "metadata": {
      "needs_background": "light"
     },
     "output_type": "display_data"
    }
   ],
   "source": [
    "pd.crosstab(df.Status,df.Season).plot(kind = \"bar\")"
   ]
  },
  {
   "cell_type": "code",
   "execution_count": 62,
   "metadata": {},
   "outputs": [
    {
     "data": {
      "text/plain": [
       "<matplotlib.axes._subplots.AxesSubplot at 0x179a2834248>"
      ]
     },
     "execution_count": 62,
     "metadata": {},
     "output_type": "execute_result"
    },
    {
     "data": {
      "image/png": "[encoded data removed]",
      "text/plain": [
       "<Figure size 432x288 with 1 Axes>"
      ]
     },
     "metadata": {
      "needs_background": "light"
     },
     "output_type": "display_data"
    }
   ],
   "source": [
    "pd.crosstab(df.Status,df.Decision).plot(kind = \"bar\")"
   ]
  },
  {
   "cell_type": "code",
   "execution_count": 63,
   "metadata": {},
   "outputs": [],
   "source": [
    "x = df.drop([\"Status\"],axis = 1)\n",
    "y = df[\"Status\"]"
   ]
  },
  {
   "cell_type": "code",
   "execution_count": 75,
   "metadata": {},
   "outputs": [],
   "source": [
    "from imblearn.over_sampling import RandomOverSampler\n",
    "ros = RandomOverSampler(sampling_strategy=1)"
   ]
  },
  {
   "cell_type": "code",
   "execution_count": 76,
   "metadata": {},
   "outputs": [
    {
     "data": {
      "text/plain": [
       "((100, 15), (100,))"
      ]
     },
     "execution_count": 76,
     "metadata": {},
     "output_type": "execute_result"
    }
   ],
   "source": [
    "x_res,y_res = ros.fit_sample(x,y)\n",
    "x_res.shape,y_res.shape"
   ]
  },
  {
   "cell_type": "code",
   "execution_count": 77,
   "metadata": {},
   "outputs": [],
   "source": [
    "from sklearn.model_selection import train_test_split\n",
    "x_train,x_test,y_train,y_test = train_test_split(x_res,y_res,test_size  = 0.3)"
   ]
  },
  {
   "cell_type": "code",
   "execution_count": 78,
   "metadata": {},
   "outputs": [
    {
     "data": {
      "text/plain": [
       "((70, 15), (30, 15))"
      ]
     },
     "execution_count": 78,
     "metadata": {},
     "output_type": "execute_result"
    }
   ],
   "source": [
    "x_train.shape,x_test.shape"
   ]
  },
  {
   "cell_type": "code",
   "execution_count": 79,
   "metadata": {},
   "outputs": [],
   "source": [
    "from sklearn.linear_model import LogisticRegression\n",
    "lrv= LogisticRegression()"
   ]
  },
  {
   "cell_type": "code",
   "execution_count": 80,
   "metadata": {},
   "outputs": [
    {
     "name": "stderr",
     "output_type": "stream",
     "text": [
      "C:\\Users\\lenovo\\Anaconda3\\lib\\site-packages\\sklearn\\linear_model\\_logistic.py:940: ConvergenceWarning: lbfgs failed to converge (status=1):\n",
      "STOP: TOTAL NO. of ITERATIONS REACHED LIMIT.\n",
      "\n",
      "Increase the number of iterations (max_iter) or scale the data as shown in:\n",
      "    https://scikit-learn.org/stable/modules/preprocessing.html\n",
      "Please also refer to the documentation for alternative solver options:\n",
      "    https://scikit-learn.org/stable/modules/linear_model.html#logistic-regression\n",
      "  extra_warning_msg=_LOGISTIC_SOLVER_CONVERGENCE_MSG)\n"
     ]
    },
    {
     "data": {
      "text/plain": [
       "LogisticRegression(C=1.0, class_weight=None, dual=False, fit_intercept=True,\n",
       "                   intercept_scaling=1, l1_ratio=None, max_iter=100,\n",
       "                   multi_class='auto', n_jobs=None, penalty='l2',\n",
       "                   random_state=None, solver='lbfgs', tol=0.0001, verbose=0,\n",
       "                   warm_start=False)"
      ]
     },
     "execution_count": 80,
     "metadata": {},
     "output_type": "execute_result"
    }
   ],
   "source": [
    "lrv.fit(x_train,y_train)"
   ]
  },
  {
   "cell_type": "code",
   "execution_count": 81,
   "metadata": {},
   "outputs": [
    {
     "data": {
      "text/plain": [
       "0.7"
      ]
     },
     "execution_count": 81,
     "metadata": {},
     "output_type": "execute_result"
    }
   ],
   "source": [
    "lrv.score(x_test,y_test)"
   ]
  },
  {
   "cell_type": "code",
   "execution_count": 82,
   "metadata": {},
   "outputs": [
    {
     "data": {
      "text/plain": [
       "0    16\n",
       "1    14\n",
       "Name: Status, dtype: int64"
      ]
     },
     "execution_count": 82,
     "metadata": {},
     "output_type": "execute_result"
    }
   ],
   "source": [
    "y_test.value_counts()"
   ]
  },
  {
   "cell_type": "code",
   "execution_count": 83,
   "metadata": {},
   "outputs": [
    {
     "name": "stdout",
     "output_type": "stream",
     "text": [
      "Accuracy of logistic regression classifier on test set: 0.70\n"
     ]
    }
   ],
   "source": [
    "y_pred = lrv.predict(x_test)\n",
    "y_pred\n",
    "print('Accuracy of logistic regression classifier on test set: {:.2f}'.format(lrv.score(x_test, y_test)))"
   ]
  },
  {
   "cell_type": "code",
   "execution_count": 84,
   "metadata": {},
   "outputs": [
    {
     "name": "stdout",
     "output_type": "stream",
     "text": [
      "[[ 9  7]\n",
      " [ 2 12]]\n"
     ]
    }
   ],
   "source": [
    "from sklearn.metrics import confusion_matrix\n",
    "confusion_matrix = confusion_matrix(y_test,y_pred)\n",
    "print(confusion_matrix)"
   ]
  },
  {
   "cell_type": "code",
   "execution_count": 85,
   "metadata": {},
   "outputs": [
    {
     "name": "stdout",
     "output_type": "stream",
     "text": [
      "              precision    recall  f1-score   support\n",
      "\n",
      "           0       0.82      0.56      0.67        16\n",
      "           1       0.63      0.86      0.73        14\n",
      "\n",
      "    accuracy                           0.70        30\n",
      "   macro avg       0.72      0.71      0.70        30\n",
      "weighted avg       0.73      0.70      0.69        30\n",
      "\n"
     ]
    }
   ],
   "source": [
    "from sklearn.metrics import classification_report\n",
    "print(classification_report(y_test,y_pred))"
   ]
  },
  {
   "cell_type": "code",
   "execution_count": null,
   "metadata": {},
   "outputs": [],
   "source": []
  }
 ],
 "metadata": {
  "kernelspec": {
   "display_name": "Python 3",
   "language": "python",
   "name": "python3"
  },
  "language_info": {
   "codemirror_mode": {
    "name": "ipython",
    "version": 3
   },
   "file_extension": ".py",
   "mimetype": "text/x-python",
   "name": "python",
   "nbconvert_exporter": "python",
   "pygments_lexer": "ipython3",
   "version": "3.7.4"
  }
 },
 "nbformat": 4,
 "nbformat_minor": 2
}
